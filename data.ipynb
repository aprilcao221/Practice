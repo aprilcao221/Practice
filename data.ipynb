{
  "nbformat": 4,
  "nbformat_minor": 0,
  "metadata": {
    "colab": {
      "provenance": [],
      "authorship_tag": "ABX9TyP6QOHPoNvqo6vjzB44cAIr",
      "include_colab_link": true
    },
    "kernelspec": {
      "name": "python3",
      "display_name": "Python 3"
    },
    "language_info": {
      "name": "python"
    }
  },
  "cells": [
    {
      "cell_type": "markdown",
      "metadata": {
        "id": "view-in-github",
        "colab_type": "text"
      },
      "source": [
        "<a href=\"https://colab.research.google.com/github/aprilcao221/Practice/blob/main/data.ipynb\" target=\"_parent\"><img src=\"https://colab.research.google.com/assets/colab-badge.svg\" alt=\"Open In Colab\"/></a>"
      ]
    },
    {
      "cell_type": "markdown",
      "source": [
        "# Introduction\n",
        "Diamond is a solid form of the element carbon with its atoms arranged in a crystal structure called diamond cubic.\n",
        "\n",
        "Because the arrangement of atoms in diamond is extremely rigid, few types of impurity can contaminate it. Small numbers of defects or impurities (about one per million of lattice atoms) can color a diamond blue (boron), yellow (nitrogen), brown (defects), green (radiation exposure), purple, pink, orange, or red. Diamond also has a very high refractive index and a relatively high optical dispersion.\n",
        "\n",
        "Most natural diamonds have ages between 1 billion and 3.5 billion years. Most were formed at depths between 150 and 250 kilometres (93 and 155 mi) in the Earth's mantle, although a few have come from as deep as 800 kilometres (500 mi). Much more recently (hundreds to tens of million years ago), they were carried to the surface in volcanic eruptions and deposited in igneous rocks known as kimberlites and lamproites.\n",
        "\n",
        "<img src=\"https://images.unsplash.com/photo-1599707367072-cd6ada2bc375?q=80&w=1633&auto=format&fit=crop&ixlib=rb-4.0.3&ixid=M3wxMjA3fDB8MHxwaG90by1wYWdlfHx8fGVufDB8fHx8fA%3D%3D\">\n",
        "\n"
      ],
      "metadata": {
        "id": "E2SQ-MwvIo9_"
      }
    },
    {
      "cell_type": "markdown",
      "source": [
        "### Install and import"
      ],
      "metadata": {
        "id": "a-PpZUvyL5Et"
      }
    },
    {
      "cell_type": "code",
      "source": [
        "%pip install --upgrade plotly\n",
        "import pandas as pd\n",
        "import numpy as np\n"
      ],
      "metadata": {
        "colab": {
          "base_uri": "https://localhost:8080/"
        },
        "id": "ohgtu9WTJv2B",
        "outputId": "b674e43c-d8ac-4f0d-8c40-e11e315e439c"
      },
      "execution_count": 2,
      "outputs": [
        {
          "output_type": "stream",
          "name": "stdout",
          "text": [
            "Requirement already satisfied: plotly in /usr/local/lib/python3.10/dist-packages (5.20.0)\n",
            "Requirement already satisfied: tenacity>=6.2.0 in /usr/local/lib/python3.10/dist-packages (from plotly) (8.2.3)\n",
            "Requirement already satisfied: packaging in /usr/local/lib/python3.10/dist-packages (from plotly) (24.0)\n"
          ]
        }
      ]
    },
    {
      "cell_type": "markdown",
      "source": [
        "### Notebook presentation"
      ],
      "metadata": {
        "id": "fGxhAoNTL9_l"
      }
    },
    {
      "cell_type": "code",
      "source": [
        "pd.options.display.float_format = '{:.2f}'.format"
      ],
      "metadata": {
        "id": "oD5rKlVgKhA3"
      },
      "execution_count": 3,
      "outputs": []
    },
    {
      "cell_type": "markdown",
      "source": [
        "### Read the Data"
      ],
      "metadata": {
        "id": "MeRV3YFvMFe_"
      }
    },
    {
      "cell_type": "code",
      "source": [
        "df = pd.read_csv(\"diamonds.csv\")"
      ],
      "metadata": {
        "id": "YVLaebg_MORo"
      },
      "execution_count": 4,
      "outputs": []
    },
    {
      "cell_type": "markdown",
      "source": [
        "### Data exploration and cleaning"
      ],
      "metadata": {
        "id": "GUM6fMvdMJMn"
      }
    },
    {
      "cell_type": "code",
      "source": [
        "print(f\"The shape of the data is {df.shape}\\n\",\n",
        "      f\"Column names are {df.columns}\\n\",\n",
        "      f\"Number of NA data is {df.isna().sum()}\\n\",\n",
        "      f\"General info of the data is {df.info}\")"
      ],
      "metadata": {
        "colab": {
          "base_uri": "https://localhost:8080/"
        },
        "id": "COwy5JGGMcbS",
        "outputId": "69154143-e6f3-4e94-c73b-afcf00f4bfdd"
      },
      "execution_count": 11,
      "outputs": [
        {
          "output_type": "stream",
          "name": "stdout",
          "text": [
            "The shape of the data is (53940, 11)\n",
            " Column names are Index(['Unnamed: 0', 'carat', 'cut', 'color', 'clarity', 'depth', 'table',\n",
            "       'price', 'x', 'y', 'z'],\n",
            "      dtype='object')\n",
            " Number of NA data is Unnamed: 0    0\n",
            "carat         0\n",
            "cut           0\n",
            "color         0\n",
            "clarity       0\n",
            "depth         0\n",
            "table         0\n",
            "price         0\n",
            "x             0\n",
            "y             0\n",
            "z             0\n",
            "dtype: int64\n",
            " General info of the data is <bound method DataFrame.info of        Unnamed: 0  carat        cut color clarity  depth  table  price    x  \\\n",
            "0               1   0.23      Ideal     E     SI2  61.50  55.00    326 3.95   \n",
            "1               2   0.21    Premium     E     SI1  59.80  61.00    326 3.89   \n",
            "2               3   0.23       Good     E     VS1  56.90  65.00    327 4.05   \n",
            "3               4   0.29    Premium     I     VS2  62.40  58.00    334 4.20   \n",
            "4               5   0.31       Good     J     SI2  63.30  58.00    335 4.34   \n",
            "...           ...    ...        ...   ...     ...    ...    ...    ...  ...   \n",
            "53935       53936   0.72      Ideal     D     SI1  60.80  57.00   2757 5.75   \n",
            "53936       53937   0.72       Good     D     SI1  63.10  55.00   2757 5.69   \n",
            "53937       53938   0.70  Very Good     D     SI1  62.80  60.00   2757 5.66   \n",
            "53938       53939   0.86    Premium     H     SI2  61.00  58.00   2757 6.15   \n",
            "53939       53940   0.75      Ideal     D     SI2  62.20  55.00   2757 5.83   \n",
            "\n",
            "         y    z  \n",
            "0     3.98 2.43  \n",
            "1     3.84 2.31  \n",
            "2     4.07 2.31  \n",
            "3     4.23 2.63  \n",
            "4     4.35 2.75  \n",
            "...    ...  ...  \n",
            "53935 5.76 3.50  \n",
            "53936 5.75 3.61  \n",
            "53937 5.68 3.56  \n",
            "53938 6.12 3.74  \n",
            "53939 5.87 3.64  \n",
            "\n",
            "[53940 rows x 11 columns]>\n"
          ]
        }
      ]
    }
  ]
}